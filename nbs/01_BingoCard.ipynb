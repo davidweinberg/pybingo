{
 "cells": [
  {
   "cell_type": "markdown",
   "metadata": {},
   "source": [
    "# Bingo Card\n",
    "\n",
    "> See class description below"
   ]
  },
  {
   "cell_type": "code",
   "execution_count": null,
   "metadata": {},
   "outputs": [],
   "source": [
    "#| default_exp BingoCard"
   ]
  },
  {
   "cell_type": "code",
   "execution_count": null,
   "metadata": {},
   "outputs": [],
   "source": [
    "#| hide\n",
    "from nbdev.showdoc import *"
   ]
  },
  {
   "cell_type": "code",
   "execution_count": null,
   "metadata": {},
   "outputs": [],
   "source": [
    "#| export\n",
    "class BingoCard:\n",
    "    \"A class representing a numeric-only version of a Bingo Card\"\n",
    "    def __init__(self, \n",
    "                 data,  # 2D array of integers representing the Bingo card\n",
    "                 diagonal_wins:bool=False # if diagonal wins are allowed\n",
    "                ):\n",
    "        self.position = {}\n",
    "        self.playBoard = [\n",
    "            [0,0,0,0,0],\n",
    "            [0,0,0,0,0],\n",
    "            [0,0,0,0,0],\n",
    "            [0,0,0,0,0],\n",
    "            [0,0,0,0,0],\n",
    "        ]\n",
    "        self.bingo = {\n",
    "            \"row\" : [0,0,0,0,0],\n",
    "            \"col\" : [0,0,0,0,0],\n",
    "            \"diagonal\" : [0,0]\n",
    "        }\n",
    "        self.picked = []\n",
    "\n",
    "        self.loadCard(data)\n",
    "        self.won = False\n",
    "        self.diagonal_wins = diagonal_wins\n",
    "\n",
    "\n",
    "    def loadCard(self,data):\n",
    "        for i in range(5):\n",
    "            for j in range(5):\n",
    "                choice = int(data[i][j])\n",
    "                self.playBoard[i][j] = choice\n",
    "                self.position[choice] = (i,j)\n",
    "\n",
    "    def updateCard(self, \n",
    "                   val:int # Number to find on card and mark as X\n",
    "                  ):        \n",
    "        try:\n",
    "            x,y = self.position[val]\n",
    "            self.playBoard[x][y] = 'X'\n",
    "            self.updateBingo(x,y)\n",
    "            self.picked.append(val)\n",
    "            if self.checkBingo(): self.won = True\n",
    "        except KeyError:\n",
    "            return\n",
    "\n",
    "    def updateBingo(self, \n",
    "                    x:int, # x position \n",
    "                    y:int  # y position\n",
    "                   ):\n",
    "        self.bingo[\"row\"][x] += 1\n",
    "        self.bingo[\"col\"][y] += 1\n",
    "\n",
    "        if x==y==2:\n",
    "            self.bingo[\"diagonal\"][0] += 1\n",
    "            self.bingo[\"diagonal\"][1] += 1\n",
    "        elif x==y:\n",
    "            self.bingo[\"diagonal\"][0] += 1\n",
    "        elif x+y == 4:\n",
    "            self.bingo[\"diagonal\"][1] += 1\n",
    "\n",
    "    def checkBingo(self):\n",
    "        if (self.diagonal_wins):\n",
    "            return 5 in self.bingo[\"row\"] or 5 in self.bingo[\"col\"] or 5 in self.bingo[\"diagonal\"]\n",
    "        else:\n",
    "            return 5 in self.bingo[\"row\"] or 5 in self.bingo[\"col\"]\n",
    "            \n",
    "    def sumBoard(self):\n",
    "        total = 0\n",
    "        for i in range(5):\n",
    "            for j in self.playBoard[i]:\n",
    "                if j!='X':                   \n",
    "                    total += int(j)\n",
    "        return total\n",
    "        \n",
    "    def __str__(self):\n",
    "        result = \"\"\n",
    "        for i in range(5):\n",
    "            for j in self.playBoard[i]:\n",
    "                if j=='X':\n",
    "                   result += f\" {j}\"\n",
    "                elif j>9:\n",
    "                    result += f\"{j}\"\n",
    "                else:\n",
    "                    result += f\"0{j}\"\n",
    "                    \n",
    "                result += \" \"\n",
    "            result += \"\\n\"\n",
    "        return (result)\n",
    "\n",
    "    __repr__ = __str__"
   ]
  },
  {
   "cell_type": "code",
   "execution_count": null,
   "metadata": {},
   "outputs": [],
   "source": [
    "#| hide\n",
    "import nbdev; nbdev.nbdev_export()"
   ]
  },
  {
   "cell_type": "markdown",
   "metadata": {},
   "source": [
    "In order to create a card, I will first create a sample data set for it."
   ]
  },
  {
   "cell_type": "code",
   "execution_count": null,
   "metadata": {},
   "outputs": [],
   "source": [
    "data = [\n",
    "            [22,13,17,11,0],\n",
    "            [8,2,23,4,24],\n",
    "            [21,9,14,16,7],\n",
    "            [6,10,3,18,5],\n",
    "            [1,12,20,15,19],\n",
    "        ]\n"
   ]
  },
  {
   "cell_type": "markdown",
   "metadata": {},
   "source": [
    "Now that we have the data created, we simply need to pass it into the constructor for the BingoCard class."
   ]
  },
  {
   "cell_type": "code",
   "execution_count": null,
   "metadata": {},
   "outputs": [],
   "source": [
    "myBingoCard = BingoCard(data)"
   ]
  },
  {
   "cell_type": "code",
   "execution_count": null,
   "metadata": {},
   "outputs": [
    {
     "data": {
      "text/plain": [
       "22 13 17 11 00 \n",
       "08 02 23 04 24 \n",
       "21 09 14 16 07 \n",
       "06 10 03 18 05 \n",
       "01 12 20 15 19 "
      ]
     },
     "execution_count": null,
     "metadata": {},
     "output_type": "execute_result"
    }
   ],
   "source": [
    "myBingoCard"
   ]
  },
  {
   "cell_type": "markdown",
   "metadata": {},
   "source": [
    "In order to select a specific number on the card, you simply use the `updateCard` function and pass in the value.  This will check the card for that number, and if it is present, it will be changed to an `X`."
   ]
  },
  {
   "cell_type": "code",
   "execution_count": null,
   "metadata": {},
   "outputs": [
    {
     "data": {
      "text/plain": [
       " X 13 17 11 00 \n",
       "08 02 23 04 24 \n",
       "21 09 14 16 07 \n",
       "06 10 03 18 05 \n",
       "01 12 20 15 19 "
      ]
     },
     "execution_count": null,
     "metadata": {},
     "output_type": "execute_result"
    }
   ],
   "source": [
    "myBingoCard.updateCard(22)\n",
    "myBingoCard"
   ]
  },
  {
   "cell_type": "markdown",
   "metadata": {},
   "source": [
    "We can check to see if the selected number has, in fact, been changed to an `X`. With an assert statement, it is important to note that this will now we used in the CI pipeline when deployed to github."
   ]
  },
  {
   "cell_type": "code",
   "execution_count": null,
   "metadata": {},
   "outputs": [],
   "source": [
    "assert(myBingoCard.playBoard[0][0] == 'X')"
   ]
  },
  {
   "cell_type": "markdown",
   "metadata": {},
   "source": [
    "We can also check to see if we have won by checking the 'won' value of the class."
   ]
  },
  {
   "cell_type": "code",
   "execution_count": null,
   "metadata": {},
   "outputs": [],
   "source": [
    "assert(not myBingoCard.won)"
   ]
  },
  {
   "cell_type": "markdown",
   "metadata": {},
   "source": [
    "I would like to hightlight how this works, as it is quite interesting.  Everytime a number is slected, a value is added to the `bingo` calculation.  If you see below, this comprises of a set of `rows`, a set of `columns` and a set of `diagonal` values.  At any point, if these values equal 5, it means that we have a BINGO!!!"
   ]
  },
  {
   "cell_type": "code",
   "execution_count": null,
   "metadata": {},
   "outputs": [
    {
     "data": {
      "text/plain": [
       "{'row': [1, 0, 0, 0, 0], 'col': [1, 0, 0, 0, 0], 'diagonal': [1, 0]}"
      ]
     },
     "execution_count": null,
     "metadata": {},
     "output_type": "execute_result"
    }
   ],
   "source": [
    "myBingoCard.bingo"
   ]
  },
  {
   "cell_type": "markdown",
   "metadata": {},
   "source": [
    "Now I will select an entire column, so you see that one of the values in the 'bingo' calculation will equal 5 and the `won` flag will be set to true."
   ]
  },
  {
   "cell_type": "code",
   "execution_count": null,
   "metadata": {},
   "outputs": [
    {
     "data": {
      "text/plain": [
       " X 13 17 11 00 \n",
       " X 02 23 04 24 \n",
       " X 09 14 16 07 \n",
       " X 10 03 18 05 \n",
       " X 12 20 15 19 "
      ]
     },
     "execution_count": null,
     "metadata": {},
     "output_type": "execute_result"
    }
   ],
   "source": [
    "myBingoCard.updateCard(8)\n",
    "myBingoCard.updateCard(21)\n",
    "myBingoCard.updateCard(6)\n",
    "myBingoCard.updateCard(1)\n",
    "myBingoCard"
   ]
  },
  {
   "cell_type": "code",
   "execution_count": null,
   "metadata": {},
   "outputs": [
    {
     "data": {
      "text/plain": [
       "{'row': [1, 1, 1, 1, 1], 'col': [5, 0, 0, 0, 0], 'diagonal': [1, 1]}"
      ]
     },
     "execution_count": null,
     "metadata": {},
     "output_type": "execute_result"
    }
   ],
   "source": [
    "myBingoCard.bingo"
   ]
  },
  {
   "cell_type": "markdown",
   "metadata": {},
   "source": [
    "We can finally do a test to ensure that we have a winning card!"
   ]
  },
  {
   "cell_type": "code",
   "execution_count": null,
   "metadata": {},
   "outputs": [],
   "source": [
    "assert (myBingoCard.won)"
   ]
  }
 ],
 "metadata": {
  "kernelspec": {
   "display_name": "python3",
   "language": "python",
   "name": "python3"
  }
 },
 "nbformat": 4,
 "nbformat_minor": 4
}
