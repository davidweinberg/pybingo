{
 "cells": [
  {
   "cell_type": "markdown",
   "metadata": {},
   "source": [
    "# Bingo Game\n",
    "\n",
    "> See class description below"
   ]
  },
  {
   "cell_type": "code",
   "execution_count": null,
   "metadata": {},
   "outputs": [],
   "source": [
    "#| default_exp BingGame"
   ]
  },
  {
   "cell_type": "code",
   "execution_count": null,
   "metadata": {},
   "outputs": [],
   "source": [
    "#| hide\n",
    "from nbdev.showdoc import *\n",
    "from pybingo.BingoCard import *"
   ]
  },
  {
   "cell_type": "code",
   "execution_count": null,
   "metadata": {},
   "outputs": [],
   "source": [
    "#| export\n",
    "class BingoGame:\n",
    "    def __init__(self):\n",
    "        self.cards = []\n",
    "        self.pulled = []\n",
    "        self.winner = -1\n",
    "    \n",
    "    def displayGame(self):        \n",
    "        print (\"============\")\n",
    "        for card in self.cards:            \n",
    "            card.displayCard()\n",
    "            print ()\n",
    "\n",
    "    def pick(self,index):        \n",
    "        for card in self.cards:            \n",
    "            card.updateCard(int(self.pulled[index]))\n",
    "\n",
    "    def checkBingo(self):     \n",
    "        for i in range(len(self.cards)):\n",
    "            if self.cards[i].checkBingo():\n",
    "                # we have a winner\n",
    "                self.winner = i\n",
    "                return True\n",
    "        return False\n",
    "\n",
    "    def play(self):\n",
    "        for i in range(len(self.pulled)):\n",
    "            self.pick(i)\n",
    "            \n",
    "            if self.checkBingo():\n",
    "                print (\"Winner is \"+str(self.winner))            \n",
    "                print (self.cards[self.winner])\n",
    "                \n",
    "                boardsum = self.cards[self.winner].sumBoard()\n",
    "                print (f\"{boardsum=}\")\n",
    "                print (\"last pull=\"+self.pulled[i])\n",
    "                \n",
    "                result = int(boardsum) * int(self.pulled[i])\n",
    "                print (f\"{result=}\")                \n",
    "                return\n",
    "\n",
    "    def numWinners(self):\n",
    "        total = 0\n",
    "        for card in self.cards:\n",
    "            if card.won:\n",
    "                total += 1        \n",
    "        return (total)\n",
    "            \n",
    "            \n",
    "    def lastToWin(self):\n",
    "        last_win = 0\n",
    "        for i in range(len(self.pulled)):\n",
    "            self.pick(i)\n",
    "            for j in range(len(self.cards)):\n",
    "                if not self.cards[j].won and self.cards[j].checkBingo():\n",
    "                    self.cards[j].won = True\n",
    "                    last_win = j\n",
    "                    \n",
    "            if len(self.cards) - self.numWinners() == 0:                \n",
    "                print (self.cards[last_win])\n",
    "                boardsum = self.cards[last_win].sumBoard()\n",
    "                print (f\"{boardsum=}\")\n",
    "                \n",
    "                print (\"last pull=\"+self.pulled[i])\n",
    "                result = int(boardsum) * int(self.pulled[i])\n",
    "                print (f\"{result=}\")\n",
    "                return\n",
    "\n",
    "    def loadGame(self,file_name):\n",
    "        with open(file_name, 'r') as data_file:\n",
    "            data = []\n",
    "            for index, line in enumerate(data_file):\n",
    "                line = line.strip()\n",
    "            \n",
    "                if index == 0:\n",
    "                    self.pulled = line.split(\",\")            \n",
    "                    continue\n",
    "\n",
    "                if line == '' and index != 1:\n",
    "                    card = BingoCard(data)            \n",
    "                    data = []\n",
    "                    self.cards.append(card)\n",
    "                \n",
    "                            \n",
    "                if line != '':\n",
    "                    values = line.split()\n",
    "                    data.append(values)\n",
    "                \n",
    "            card = BingoCard(data)             \n",
    "            self.cards.append(card)\n"
   ]
  },
  {
   "cell_type": "code",
   "execution_count": null,
   "metadata": {},
   "outputs": [],
   "source": [
    "#| hide\n",
    "import nbdev; nbdev.nbdev_export()"
   ]
  },
  {
   "cell_type": "code",
   "execution_count": null,
   "metadata": {},
   "outputs": [
    {
     "name": "stdout",
     "output_type": "stream",
     "text": [
      "Part 1\n",
      "Winner is 2\n",
      " X  X  X  X  X \n",
      "10 16 15  X 19 \n",
      "18 08  X 26 20 \n",
      "22  X 13 06  X \n",
      " X  X 12 03  X \n",
      "\n",
      "boardsum=188\n",
      "last pull=24\n",
      "result=4512\n",
      "\n",
      "Part 2\n",
      "22  X  X  X  X \n",
      "08  X  X  X  X \n",
      " X  X  X  X  X \n",
      "06  X 03 18  X \n",
      "01 12 20 15 19 \n",
      "\n",
      "boardsum=124\n",
      "last pull=13\n",
      "result=1612\n"
     ]
    }
   ],
   "source": [
    "# example data\n",
    "fname = './data/example.txt'\n",
    "\n",
    "bingo = BingoGame()\n",
    "bingo.loadGame(fname)\n",
    "print (\"Part 1\")\n",
    "bingo.play()\n",
    "\n",
    "print (\"\\nPart 2\")\n",
    "bingo2 = BingoGame()\n",
    "bingo2.loadGame(fname)\n",
    "bingo2.lastToWin()\n"
   ]
  },
  {
   "cell_type": "code",
   "execution_count": null,
   "metadata": {},
   "outputs": [
    {
     "name": "stdout",
     "output_type": "stream",
     "text": [
      "Part 1\n",
      "Winner is 14\n",
      " X 93 48 17 33 \n",
      " X 07 05 00 69 \n",
      " X  X 52 01  X \n",
      " X 73  X 25 16 \n",
      " X 20 41 77 62 \n",
      "\n",
      "boardsum=639\n",
      "last pull=54\n",
      "result=34506\n",
      "\n",
      "Part 2\n",
      " X  X  X  X  X \n",
      " X  X 62 81  X \n",
      " X  X  X  X  X \n",
      " X  X  X  X  X \n",
      " X  X  X 26  X \n",
      "\n",
      "boardsum=169\n",
      "last pull=42\n",
      "result=7098\n"
     ]
    }
   ],
   "source": [
    "# question data\n",
    "fname = './data/data.txt'\n",
    "\n",
    "bingo = BingoGame()\n",
    "bingo.loadGame(fname)\n",
    "print (\"Part 1\")\n",
    "bingo.play()\n",
    "\n",
    "print (\"\\nPart 2\")\n",
    "bingo2 = BingoGame()\n",
    "bingo2.loadGame(fname)\n",
    "bingo2.lastToWin()"
   ]
  },
  {
   "cell_type": "code",
   "execution_count": null,
   "metadata": {},
   "outputs": [],
   "source": []
  }
 ],
 "metadata": {
  "kernelspec": {
   "display_name": "python3",
   "language": "python",
   "name": "python3"
  }
 },
 "nbformat": 4,
 "nbformat_minor": 4
}
