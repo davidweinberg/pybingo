{
 "cells": [
  {
   "cell_type": "markdown",
   "metadata": {},
   "source": [
    "# Bingo Game\n",
    "\n",
    "> This is a solution to the 2021 advent of code that I have converted to nbdev.\n",
    "> Original problem can be found here:  https://adventofcode.com/2021/day/4\n"
   ]
  },
  {
   "cell_type": "code",
   "execution_count": null,
   "metadata": {},
   "outputs": [],
   "source": [
    "#| default_exp BingGame"
   ]
  },
  {
   "cell_type": "code",
   "execution_count": null,
   "metadata": {},
   "outputs": [],
   "source": [
    "#| hide\n",
    "from nbdev.showdoc import *\n",
    "from pybingo.BingoCard import *"
   ]
  },
  {
   "cell_type": "code",
   "execution_count": null,
   "metadata": {},
   "outputs": [],
   "source": [
    "#| export\n",
    "class BingoGame:\n",
    "    \"Class that will run a bingo game using pybingo.BingCard as the storage model\"\n",
    "    def __init__(self, fname:str=\"\"):\n",
    "        self.cards = []\n",
    "        self.pulled = []\n",
    "        self.winner = -1\n",
    "        self.last_pulled = -1\n",
    "        \n",
    "        if fname:\n",
    "            self.loadGame(fname)\n",
    "    \n",
    "    def displayGame(self):        \n",
    "        print (\"============\")\n",
    "        for card in self.cards:            \n",
    "            card.displayCard()\n",
    "            print ()\n",
    "\n",
    "    def pick(self,index):        \n",
    "        self.last_pulled = int(self.pulled[index])\n",
    "        for card in self.cards:            \n",
    "            card.updateCard(int(self.pulled[index]))\n",
    "\n",
    "    def checkBingo(self):     \n",
    "        for i in range(len(self.cards)):\n",
    "            if self.cards[i].checkBingo():\n",
    "                # we have a winner\n",
    "                self.winner = i\n",
    "                return True\n",
    "        return False\n",
    "\n",
    "    def play(self):\n",
    "        \"Go through each of the pulled numbers and apply them to the BingoCards. If a winner is found, then do the calculations required on the BingoCard.\"\n",
    "        for i in range(len(self.pulled)):\n",
    "            self.pick(i)\n",
    "            \n",
    "            if self.checkBingo():\n",
    "                self.printWinSummary()\n",
    "                return\n",
    "    \n",
    "\n",
    "    \n",
    "    \"\"\"\n",
    "    def play(self):\n",
    "        \"Go through each of the pulled numbers and apply them to the BingoCards. If a winner is found, then do the calculations required on the BingoCard.\"\n",
    "        for i in range(len(self.pulled)):\n",
    "            self.pick(i)\n",
    "            \n",
    "            if self.checkBingo():\n",
    "                print (\"Winner is \"+str(self.winner))            \n",
    "                print (self.cards[self.winner])\n",
    "                \n",
    "                boardsum = self.cards[self.winner].sumBoard()\n",
    "                print (f\"{boardsum=}\")\n",
    "                print (\"last pull=\"+self.pulled[i])\n",
    "                \n",
    "                result = int(boardsum) * int(self.pulled[i])\n",
    "                print (f\"{result=}\")                \n",
    "                return\n",
    "                \"\"\"\n",
    "\n",
    "    \"\"\"\n",
    "    def play(self):\n",
    "        \"Go through each of the pulled numbers and apply them to the BingoCards. If a winner is found, then do the calculations required on the BingoCard.\"\n",
    "        for i in range(len(self.pulled)):\n",
    "            self.pick(i)\n",
    "            \n",
    "            if self.checkBingo():\n",
    "                return\n",
    "                \"\"\"\n",
    "                \n",
    "    def calcBoardSum(self, card_index: int):        \n",
    "        boardsum = self.cards[card_index].sumBoard()\n",
    "        return boardsum\n",
    "\n",
    "    def calcResult(self, boardsum: int, pulled: int):\n",
    "        result = int(boardsum) * int(pulled)\n",
    "        return result\n",
    "\n",
    "    def printWinSummary(self):\n",
    "        if self.winner:\n",
    "            print (\"Winner is \"+str(self.winner))            \n",
    "            print (self.cards[self.winner])\n",
    "                \n",
    "            boardsum = self.calcBoardSum(self.winner)\n",
    "            print (f\"{boardsum=}\")\n",
    "            print (\"last pull=\"+str(self.last_pulled))\n",
    "                \n",
    "            result = self.calcResult(boardsum, self.last_pulled)\n",
    "            print (f\"{result=}\")                \n",
    "        \n",
    "    def numWinners(self):\n",
    "        total = 0\n",
    "        for card in self.cards:\n",
    "            if card.won:\n",
    "                total += 1        \n",
    "        return (total)\n",
    "            \n",
    "            \n",
    "    def lastToWin(self):\n",
    "        \"Calculate the value of the last card to win bingo.\"\n",
    "        last_win = 0\n",
    "        for i in range(len(self.pulled)):\n",
    "            self.pick(i)\n",
    "            for j in range(len(self.cards)):\n",
    "                if not self.cards[j].won and self.cards[j].checkBingo():\n",
    "                    self.cards[j].won = True\n",
    "                    last_win = j\n",
    "                    \n",
    "            if len(self.cards) - self.numWinners() == 0:                \n",
    "                print (self.cards[last_win])\n",
    "                boardsum = self.cards[last_win].sumBoard()\n",
    "                print (f\"{boardsum=}\")\n",
    "                \n",
    "                print (\"last pull=\"+self.pulled[i])\n",
    "                result = int(boardsum) * int(self.pulled[i])\n",
    "                print (f\"{result=}\")\n",
    "                return\n",
    "\n",
    "    def loadGame(self,file_name:str):\n",
    "        \"Will load the data from a game file.\"\n",
    "        with open(file_name, 'r') as data_file:\n",
    "            data = []\n",
    "            for index, line in enumerate(data_file):\n",
    "                line = line.strip()\n",
    "            \n",
    "                if index == 0:\n",
    "                    self.pulled = line.split(\",\")            \n",
    "                    continue\n",
    "\n",
    "                if line == '' and index != 1:\n",
    "                    card = BingoCard(data)            \n",
    "                    data = []\n",
    "                    self.cards.append(card)\n",
    "                \n",
    "                            \n",
    "                if line != '':\n",
    "                    values = line.split()\n",
    "                    data.append(values)\n",
    "                \n",
    "            card = BingoCard(data)             \n",
    "            self.cards.append(card)\n"
   ]
  },
  {
   "cell_type": "code",
   "execution_count": null,
   "metadata": {},
   "outputs": [],
   "source": [
    "#| hide\n",
    "import nbdev; nbdev.nbdev_export()"
   ]
  },
  {
   "cell_type": "markdown",
   "metadata": {},
   "source": [
    "## Functions"
   ]
  },
  {
   "cell_type": "code",
   "execution_count": null,
   "metadata": {},
   "outputs": [
    {
     "data": {
      "text/markdown": [
       "---\n",
       "\n",
       "### BingoGame.loadGame\n",
       "\n",
       ">      BingoGame.loadGame (file_name:str)\n",
       "\n",
       "Will load the data from a game file."
      ],
      "text/plain": [
       "---\n",
       "\n",
       "### BingoGame.loadGame\n",
       "\n",
       ">      BingoGame.loadGame (file_name:str)\n",
       "\n",
       "Will load the data from a game file."
      ]
     },
     "execution_count": null,
     "metadata": {},
     "output_type": "execute_result"
    }
   ],
   "source": [
    "#| echo: false\n",
    "show_doc(BingoGame.loadGame)"
   ]
  },
  {
   "cell_type": "code",
   "execution_count": null,
   "metadata": {},
   "outputs": [
    {
     "data": {
      "text/markdown": [
       "---\n",
       "\n",
       "### BingoGame.play\n",
       "\n",
       ">      BingoGame.play ()\n",
       "\n",
       "Go through each of the pulled numbers and apply them to the BingoCards. If a winner is found, then do the calculations required on the BingoCard."
      ],
      "text/plain": [
       "---\n",
       "\n",
       "### BingoGame.play\n",
       "\n",
       ">      BingoGame.play ()\n",
       "\n",
       "Go through each of the pulled numbers and apply them to the BingoCards. If a winner is found, then do the calculations required on the BingoCard."
      ]
     },
     "execution_count": null,
     "metadata": {},
     "output_type": "execute_result"
    }
   ],
   "source": [
    "#| echo: false\n",
    "show_doc(BingoGame.play)"
   ]
  },
  {
   "cell_type": "code",
   "execution_count": null,
   "metadata": {},
   "outputs": [
    {
     "data": {
      "text/markdown": [
       "---\n",
       "\n",
       "### BingoGame.lastToWin\n",
       "\n",
       ">      BingoGame.lastToWin ()\n",
       "\n",
       "Calculate the value of the last card to win bingo."
      ],
      "text/plain": [
       "---\n",
       "\n",
       "### BingoGame.lastToWin\n",
       "\n",
       ">      BingoGame.lastToWin ()\n",
       "\n",
       "Calculate the value of the last card to win bingo."
      ]
     },
     "execution_count": null,
     "metadata": {},
     "output_type": "execute_result"
    }
   ],
   "source": [
    "#| echo: false\n",
    "show_doc(BingoGame.lastToWin)"
   ]
  },
  {
   "cell_type": "markdown",
   "metadata": {},
   "source": [
    "## Example Usage:"
   ]
  },
  {
   "cell_type": "markdown",
   "metadata": {},
   "source": [
    "The example data file will be in the following format:"
   ]
  },
  {
   "cell_type": "code",
   "execution_count": null,
   "metadata": {},
   "outputs": [
    {
     "name": "stdout",
     "output_type": "stream",
     "text": [
      "fname='./data/example.txt'\n"
     ]
    },
    {
     "data": {
      "text/plain": [
       "['7,4,9,5,11,17,23,2,0,14,21,24,10,16,13,6,15,25,12,22,18,20,8,19,3,26,1\\n',\n",
       " '\\n',\n",
       " '22 13 17 11  0\\n',\n",
       " ' 8  2 23  4 24\\n',\n",
       " '21  9 14 16  7\\n',\n",
       " ' 6 10  3 18  5\\n',\n",
       " ' 1 12 20 15 19\\n',\n",
       " '\\n',\n",
       " ' 3 15  0  2 22\\n',\n",
       " ' 9 18 13 17  5\\n',\n",
       " '19  8  7 25 23\\n',\n",
       " '20 11 10 24  4\\n',\n",
       " '14 21 16 12  6\\n',\n",
       " '\\n',\n",
       " '14 21 17 24  4\\n',\n",
       " '10 16 15  9 19\\n',\n",
       " '18  8 23 26 20\\n',\n",
       " '22 11 13  6  5\\n',\n",
       " ' 2  0 12  3  7']"
      ]
     },
     "execution_count": null,
     "metadata": {},
     "output_type": "execute_result"
    }
   ],
   "source": [
    "# echo: false\n",
    "fname = './data/example.txt'\n",
    "\n",
    "with open(fname) as file:    \n",
    "    lines=file.readlines()\n",
    "\n",
    "print(f\"{fname=}\")\n",
    "lines"
   ]
  },
  {
   "cell_type": "markdown",
   "metadata": {},
   "source": [
    "In order to get started, lets create a bingo game and pass in the filename with the data in it."
   ]
  },
  {
   "cell_type": "code",
   "execution_count": null,
   "metadata": {},
   "outputs": [],
   "source": [
    "bingo = BingoGame(fname)"
   ]
  },
  {
   "cell_type": "markdown",
   "metadata": {},
   "source": [
    "Part 1:  \n",
    "Now using the `play` function, it will loop through all the `picked` values and give us the totals for the required calcualtions."
   ]
  },
  {
   "cell_type": "code",
   "execution_count": null,
   "metadata": {},
   "outputs": [
    {
     "name": "stdout",
     "output_type": "stream",
     "text": [
      "Winner is 2\n",
      " X  X  X  X  X \n",
      "10 16 15  X 19 \n",
      "18 08  X 26 20 \n",
      "22  X 13 06  X \n",
      " X  X 12 03  X \n",
      "\n",
      "boardsum=188\n",
      "last pull=24\n",
      "result=4512\n"
     ]
    }
   ],
   "source": [
    "bingo.play()"
   ]
  },
  {
   "cell_type": "markdown",
   "metadata": {},
   "source": [
    "Part 2:\n",
    "Now, lets see what the value of the last board to win would be."
   ]
  },
  {
   "cell_type": "code",
   "execution_count": null,
   "metadata": {},
   "outputs": [
    {
     "name": "stdout",
     "output_type": "stream",
     "text": [
      "22  X  X  X  X \n",
      "08  X  X  X  X \n",
      " X  X  X  X  X \n",
      "06  X 03 18  X \n",
      "01 12 20 15 19 \n",
      "\n",
      "boardsum=124\n",
      "last pull=13\n",
      "result=1612\n"
     ]
    }
   ],
   "source": [
    "bingo_last = BingoGame(fname)\n",
    "bingo_last.lastToWin()"
   ]
  },
  {
   "cell_type": "markdown",
   "metadata": {},
   "source": [
    "## Solution to AOC Day #4 (https://adventofcode.com/2021/day/4)"
   ]
  },
  {
   "cell_type": "code",
   "execution_count": null,
   "metadata": {},
   "outputs": [
    {
     "name": "stdout",
     "output_type": "stream",
     "text": [
      "Part 1:\n",
      "Winner is 14\n",
      " X 93 48 17 33 \n",
      " X 07 05 00 69 \n",
      " X  X 52 01  X \n",
      " X 73  X 25 16 \n",
      " X 20 41 77 62 \n",
      "\n",
      "boardsum=639\n",
      "last pull=54\n",
      "result=34506\n",
      "\n",
      "Part 2:\n",
      " X  X  X  X  X \n",
      " X  X 62 81  X \n",
      " X  X  X  X  X \n",
      " X  X  X  X  X \n",
      " X  X  X 26  X \n",
      "\n",
      "boardsum=169\n",
      "last pull=42\n",
      "result=7098\n"
     ]
    }
   ],
   "source": [
    "# question data\n",
    "fname = './data/data.txt'\n",
    "\n",
    "bingo = BingoGame(fname)\n",
    "print (\"Part 1:\")\n",
    "bingo.play()\n",
    "\n",
    "print (\"\\nPart 2:\")\n",
    "bingo2 = BingoGame(fname)\n",
    "bingo2.lastToWin()"
   ]
  }
 ],
 "metadata": {
  "kernelspec": {
   "display_name": "python3",
   "language": "python",
   "name": "python3"
  }
 },
 "nbformat": 4,
 "nbformat_minor": 4
}
